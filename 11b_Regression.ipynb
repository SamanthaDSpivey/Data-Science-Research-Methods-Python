{
 "cells": [
  {
   "cell_type": "code",
   "execution_count": 1,
   "metadata": {},
   "outputs": [
    {
     "name": "stderr",
     "output_type": "stream",
     "text": [
      "C:\\Users\\Samantha\\Anaconda3\\lib\\site-packages\\statsmodels\\compat\\pandas.py:56: FutureWarning: The pandas.core.datetools module is deprecated and will be removed in a future version. Please use the pandas.tseries module instead.\n",
      "  from pandas.core import datetools\n"
     ]
    }
   ],
   "source": [
    "## Regression\n",
    "  # Used when you seek to understand or predict a given outcome variable in greater depth.\n",
    "  # Can isolate unique or non-overlapping relationships among our variables, which is a problem in correlation.\n",
    "\n",
    "# Continuing with same dataset from 11a\n",
    "# Import/load packages to be used\n",
    " # Will use the ggplot2 package for data visualization, the corrplot package for making visual correlation tables, & psych package for detecting skew & making correlation matrices.\n",
    "\n",
    "import pandas as pd\n",
    "import numpy as np\n",
    "import statsmodels.api as sm\n",
    "from statsmodels.stats.anova import anova_lm\n",
    "from sklearn.preprocessing import StandardScaler\n",
    "import matplotlib.pyplot as plt\n",
    "import seaborn as sns\n",
    "\n",
    "%matplotlib inline"
   ]
  },
  {
   "cell_type": "code",
   "execution_count": 2,
   "metadata": {},
   "outputs": [
    {
     "data": {
      "text/plain": [
       "Index(['Happiness.Score', 'Economy..GDP.per.Capita.', 'Family',\n",
       "       'Health..Life.Expectancy.', 'Freedom', 'Generosity',\n",
       "       'Trust..Government.Corruption.', 'Dystopia.Residual'],\n",
       "      dtype='object')"
      ]
     },
     "execution_count": 2,
     "metadata": {},
     "output_type": "execute_result"
    }
   ],
   "source": [
    "# Import dataset to be used as Pandas data frame\n",
    "\n",
    "data = pd.read_csv(\"datasets/regionalhappy.csv\")\n",
    "\n",
    "# Explore the names\n",
    "data.columns"
   ]
  },
  {
   "cell_type": "code",
   "execution_count": 3,
   "metadata": {},
   "outputs": [
    {
     "data": {
      "text/plain": [
       "Index(['Happiness', 'GDP', 'Family', 'Life_Expect', 'Freedom', 'Generosity',\n",
       "       'Trust_Gov', 'Dystopia'],\n",
       "      dtype='object')"
      ]
     },
     "execution_count": 3,
     "metadata": {},
     "output_type": "execute_result"
    }
   ],
   "source": [
    "# Above - Python doesn't allow . in column name, as the second part of the name is an attribute of the first.\n",
    "\n",
    "# Can rename them easily by assigning names to columns attribute of the data frame:\n",
    "\n",
    "data.columns = [\"Happiness\", \"GDP\", \"Family\", \"Life_Expect\", \"Freedom\", \"Generosity\", \"Trust_Gov\", \"Dystopia\"]\n",
    "data.columns"
   ]
  },
  {
   "cell_type": "code",
   "execution_count": 4,
   "metadata": {},
   "outputs": [
    {
     "data": {
      "text/html": [
       "<div>\n",
       "<style scoped>\n",
       "    .dataframe tbody tr th:only-of-type {\n",
       "        vertical-align: middle;\n",
       "    }\n",
       "\n",
       "    .dataframe tbody tr th {\n",
       "        vertical-align: top;\n",
       "    }\n",
       "\n",
       "    .dataframe thead th {\n",
       "        text-align: right;\n",
       "    }\n",
       "</style>\n",
       "<table border=\"1\" class=\"dataframe\">\n",
       "  <thead>\n",
       "    <tr style=\"text-align: right;\">\n",
       "      <th></th>\n",
       "      <th>Happiness</th>\n",
       "      <th>GDP</th>\n",
       "      <th>Family</th>\n",
       "      <th>Life_Expect</th>\n",
       "      <th>Freedom</th>\n",
       "      <th>Generosity</th>\n",
       "      <th>Trust_Gov</th>\n",
       "      <th>Dystopia</th>\n",
       "    </tr>\n",
       "  </thead>\n",
       "  <tbody>\n",
       "    <tr>\n",
       "      <th>0</th>\n",
       "      <td>7.537</td>\n",
       "      <td>1.616463</td>\n",
       "      <td>1.533524</td>\n",
       "      <td>0.796667</td>\n",
       "      <td>0.635423</td>\n",
       "      <td>0.362012</td>\n",
       "      <td>0.315964</td>\n",
       "      <td>2.277027</td>\n",
       "    </tr>\n",
       "    <tr>\n",
       "      <th>1</th>\n",
       "      <td>7.522</td>\n",
       "      <td>1.482383</td>\n",
       "      <td>1.551122</td>\n",
       "      <td>0.792566</td>\n",
       "      <td>0.626007</td>\n",
       "      <td>0.355280</td>\n",
       "      <td>0.400770</td>\n",
       "      <td>2.313707</td>\n",
       "    </tr>\n",
       "    <tr>\n",
       "      <th>2</th>\n",
       "      <td>7.504</td>\n",
       "      <td>1.480633</td>\n",
       "      <td>1.610574</td>\n",
       "      <td>0.833552</td>\n",
       "      <td>0.627163</td>\n",
       "      <td>0.475540</td>\n",
       "      <td>0.153527</td>\n",
       "      <td>2.322715</td>\n",
       "    </tr>\n",
       "    <tr>\n",
       "      <th>3</th>\n",
       "      <td>7.494</td>\n",
       "      <td>1.564980</td>\n",
       "      <td>1.516912</td>\n",
       "      <td>0.858131</td>\n",
       "      <td>0.620071</td>\n",
       "      <td>0.290549</td>\n",
       "      <td>0.367007</td>\n",
       "      <td>2.276716</td>\n",
       "    </tr>\n",
       "    <tr>\n",
       "      <th>4</th>\n",
       "      <td>7.469</td>\n",
       "      <td>1.443572</td>\n",
       "      <td>1.540247</td>\n",
       "      <td>0.809158</td>\n",
       "      <td>0.617951</td>\n",
       "      <td>0.245483</td>\n",
       "      <td>0.382612</td>\n",
       "      <td>2.430182</td>\n",
       "    </tr>\n",
       "  </tbody>\n",
       "</table>\n",
       "</div>"
      ],
      "text/plain": [
       "   Happiness       GDP    Family  Life_Expect   Freedom  Generosity  \\\n",
       "0      7.537  1.616463  1.533524     0.796667  0.635423    0.362012   \n",
       "1      7.522  1.482383  1.551122     0.792566  0.626007    0.355280   \n",
       "2      7.504  1.480633  1.610574     0.833552  0.627163    0.475540   \n",
       "3      7.494  1.564980  1.516912     0.858131  0.620071    0.290549   \n",
       "4      7.469  1.443572  1.540247     0.809158  0.617951    0.245483   \n",
       "\n",
       "   Trust_Gov  Dystopia  \n",
       "0   0.315964  2.277027  \n",
       "1   0.400770  2.313707  \n",
       "2   0.153527  2.322715  \n",
       "3   0.367007  2.276716  \n",
       "4   0.382612  2.430182  "
      ]
     },
     "execution_count": 4,
     "metadata": {},
     "output_type": "execute_result"
    }
   ],
   "source": [
    "# Look at 1st few rows\n",
    "\n",
    "data.head()"
   ]
  },
  {
   "cell_type": "code",
   "execution_count": 5,
   "metadata": {},
   "outputs": [
    {
     "name": "stdout",
     "output_type": "stream",
     "text": [
      "                            OLS Regression Results                            \n",
      "==============================================================================\n",
      "Dep. Variable:              Happiness   R-squared:                       0.660\n",
      "Model:                            OLS   Adj. R-squared:                  0.658\n",
      "Method:                 Least Squares   F-statistic:                     297.1\n",
      "Date:                Tue, 20 Nov 2018   Prob (F-statistic):           1.11e-37\n",
      "Time:                        16:59:15   Log-Likelihood:                -154.91\n",
      "No. Observations:                 155   AIC:                             313.8\n",
      "Df Residuals:                     153   BIC:                             319.9\n",
      "Df Model:                           1                                         \n",
      "Covariance Type:            nonrobust                                         \n",
      "==============================================================================\n",
      "                 coef    std err          t      P>|t|      [0.025      0.975]\n",
      "------------------------------------------------------------------------------\n",
      "GDP            2.1842      0.127     17.238      0.000       1.934       2.435\n",
      "const          3.2032      0.136     23.619      0.000       2.935       3.471\n",
      "==============================================================================\n",
      "Omnibus:                        0.351   Durbin-Watson:                   1.211\n",
      "Prob(Omnibus):                  0.839   Jarque-Bera (JB):                0.494\n",
      "Skew:                           0.088   Prob(JB):                        0.781\n",
      "Kurtosis:                       2.787   Cond. No.                         4.91\n",
      "==============================================================================\n",
      "\n",
      "Warnings:\n",
      "[1] Standard Errors assume that the covariance matrix of the errors is correctly specified.\n"
     ]
    }
   ],
   "source": [
    "# Predict Happiness by generating an equation that predicts the outcome from one or more predictors.\n",
    " # Single predictor: Y' = b0 + b1(x)\n",
    "  # Guess each person's Y score (Y') by starting w. a constant (b0 = intercept) & adding that to their score on a predictor variable (x1), multiplied by its respective slope (b1).\n",
    " # Multiple predictors: Y' = b0 + b1(x) + b2(x) + b3(x) + b4(x)... where b is each of its respective slope\n",
    "  # Each predictor you add should improve accuracy of prediction.\n",
    "# Regression also  useful for understanding the variables.\n",
    " # Slope is the expected increase in outcome (gain in happiness) for every one unit of that predictor.\n",
    "  # Larger the slope, the more 'potent' the variable. Get a lot of outcome out for every one unit of predictor.\n",
    "  # Conversely, if slope = 0, the predictor literally would not matter (have no impact on the outcome)\n",
    "    \n",
    "# A Simple Regression\n",
    " # Predict Happiness from GDP using OLS (ordinary least squares) function from Statsmodels package.\n",
    "  # OLS has two arguments, \n",
    "     # vector for response or dependent variable\n",
    "     # an array containing one or more predictor or independent variables.\n",
    "   # To get b0 (intercept term) the add_constant method must be used to add constant column to predictor array.\n",
    "  # Summary method displays a number of statistics from a response object.\n",
    "\n",
    "    \n",
    "## Add a constant term to array of predictors to get an intercept term\n",
    "predictors = sm.add_constant(data.GDP, prepend = False)\n",
    "\n",
    "lm_mod = sm.OLS(data.Happiness, predictors)\n",
    "res = lm_mod.fit()\n",
    "print(res.summary())"
   ]
  },
  {
   "cell_type": "code",
   "execution_count": 6,
   "metadata": {},
   "outputs": [
    {
     "name": "stdout",
     "output_type": "stream",
     "text": [
      "Range of Happiness = { 2.6930000780000003 7.537000179}\n"
     ]
    },
    {
     "data": {
      "text/plain": [
       "Text(0.5,0,'Happiness')"
      ]
     },
     "execution_count": 6,
     "metadata": {},
     "output_type": "execute_result"
    },
    {
     "data": {
      "image/png": "[encoded data removed]",
      "text/plain": [
       "<matplotlib.figure.Figure at 0x1a973d96c88>"
      ]
     },
     "metadata": {},
     "output_type": "display_data"
    }
   ],
   "source": [
    "# Above - Model coefficients are displayed in summary.\n",
    " # Intercept is shown as const\n",
    "   #  Regression equation is: Happiness' = 3.2 + 2.18*(GDP) \n",
    " # Can take anyone's GDP score & plug it into this equation to predict their hapiness.\n",
    "    \n",
    "# Inspect what a 'high' happiness score is by inspecting it's distribution.\n",
    "\n",
    "print('Range of Happiness = { ' + str(min(data.Happiness)) + ' ' + str(max(data.Happiness)) + '}')\n",
    "\n",
    "ax = plt.figure(figsize=(8, 6)).gca() # define axis\n",
    "data.Happiness.plot.hist(ax = ax, alpha = 0.6)\n",
    "plt.title('Histogram of Happiness')\n",
    "plt.xlabel('Happiness')"
   ]
  },
  {
   "cell_type": "code",
   "execution_count": 7,
   "metadata": {},
   "outputs": [
    {
     "data": {
      "text/plain": [
       "Text(0.5,0,'GDP')"
      ]
     },
     "execution_count": 7,
     "metadata": {},
     "output_type": "execute_result"
    },
    {
     "data": {
      "image/png": "[encoded data removed]",
      "text/plain": [
       "<matplotlib.figure.Figure at 0x1a977b06978>"
      ]
     },
     "metadata": {},
     "output_type": "display_data"
    }
   ],
   "source": [
    "# Above - Happiness scores tend to range from ~2-8.\n",
    "\n",
    "# Inspect the distribution of GDP scores\n",
    "\n",
    "ax = plt.figure(figsize=(8, 6)).gca()   # define axis\n",
    "data.GDP.plot.hist(ax = ax, alpha = 0.6)\n",
    "plt.title('Histogram of GDP')\n",
    "plt.xlabel('GDP')"
   ]
  },
  {
   "cell_type": "code",
   "execution_count": 8,
   "metadata": {},
   "outputs": [
    {
     "data": {
      "text/plain": [
       "0    4.295305\n",
       "dtype: float64"
      ]
     },
     "execution_count": 8,
     "metadata": {},
     "output_type": "execute_result"
    }
   ],
   "source": [
    "# Above - GDP scores tend to range from 0-2.\n",
    "\n",
    "# What if the GDP score was low of 0.05, what is the predicted Happiness score?\n",
    "\n",
    "## Create a new data frame w/ predictor value & the constant\n",
    "new_predict = pd.DataFrame({'GDP':[0.5], 'const':[1.0]})\n",
    "\n",
    "\n",
    "## Make prediction w/ new values\n",
    "res.predict(new_predict)"
   ]
  },
  {
   "cell_type": "code",
   "execution_count": 9,
   "metadata": {},
   "outputs": [
    {
     "data": {
      "text/plain": [
       "0    4.295305\n",
       "1    5.168979\n",
       "2    5.387398\n",
       "dtype: float64"
      ]
     },
     "execution_count": 9,
     "metadata": {},
     "output_type": "execute_result"
    }
   ],
   "source": [
    "# Above - It is predicted that the Happiness score is 4.29.\n",
    "\n",
    "# Giving several GDP scores (0.5, 0.9, 1.7), we can automate adding the constant column w/ the add_constant method.\n",
    "\n",
    "# Create a new data frame w/ predictor value & constant\n",
    "new_predict = pd.DataFrame({'GDP':[0.5, 0.9, 1.0]})\n",
    "new_predict = sm.add_constant(new_predict, prepend = False)\n",
    "\n",
    "# Make prediction w/ new values\n",
    "res.predict(new_predict)"
   ]
  },
  {
   "cell_type": "code",
   "execution_count": 10,
   "metadata": {},
   "outputs": [
    {
     "data": {
      "text/plain": [
       "Text(0.5,1,'Happiness vs. GDP with linear regression line')"
      ]
     },
     "execution_count": 10,
     "metadata": {},
     "output_type": "execute_result"
    },
    {
     "data": {
      "image/png": "[encoded data removed]",
      "text/plain": [
       "<matplotlib.figure.Figure at 0x1a9782ec0b8>"
      ]
     },
     "metadata": {},
     "output_type": "display_data"
    }
   ],
   "source": [
    "# Above- Easy tool to predict for new data w/ a trained model using predict().\n",
    "\n",
    "# Visualize this relationship using Seaborn's regplot function to compute a regression line w/ confidence intervals & plots the line w/ scatter plot of data.\n",
    "\n",
    "ax = plt.figure(figsize=(8, 8)).gca()   # define axis\n",
    "sns.regplot(x=\"GDP\", y=\"Happiness\", data=data, ax = ax)\n",
    "plt.title('Happiness vs. GDP with linear regression line')"
   ]
  },
  {
   "cell_type": "code",
   "execution_count": 11,
   "metadata": {},
   "outputs": [
    {
     "name": "stdout",
     "output_type": "stream",
     "text": [
      "                            OLS Regression Results                            \n",
      "==============================================================================\n",
      "Dep. Variable:              Happiness   R-squared:                       0.660\n",
      "Model:                            OLS   Adj. R-squared:                  0.658\n",
      "Method:                 Least Squares   F-statistic:                     297.1\n",
      "Date:                Wed, 21 Nov 2018   Prob (F-statistic):           1.11e-37\n",
      "Time:                        08:57:01   Log-Likelihood:                -154.91\n",
      "No. Observations:                 155   AIC:                             313.8\n",
      "Df Residuals:                     153   BIC:                             319.9\n",
      "Df Model:                           1                                         \n",
      "Covariance Type:            nonrobust                                         \n",
      "==============================================================================\n",
      "                 coef    std err          t      P>|t|      [0.025      0.975]\n",
      "------------------------------------------------------------------------------\n",
      "GDP            2.1842      0.127     17.238      0.000       1.934       2.435\n",
      "const          3.2032      0.136     23.619      0.000       2.935       3.471\n",
      "==============================================================================\n",
      "Omnibus:                        0.351   Durbin-Watson:                   1.211\n",
      "Prob(Omnibus):                  0.839   Jarque-Bera (JB):                0.494\n",
      "Skew:                           0.088   Prob(JB):                        0.781\n",
      "Kurtosis:                       2.787   Cond. No.                         4.91\n",
      "==============================================================================\n",
      "\n",
      "Warnings:\n",
      "[1] Standard Errors assume that the covariance matrix of the errors is correctly specified.\n"
     ]
    }
   ],
   "source": [
    "# Above - The line is for GDP at 0.5.\n",
    " # Light blue band represents a 95% CI around the line, estimating the uncertainity in steepness of slope.\n",
    "   # We are 95% confident that the \"true\" slope in population is somewhere in light blue band.\n",
    " # The relationship is 'significant' (not 0 or flat)\n",
    " # If we had a null hypothesis that the population slope was 0 (H0: Beta = 0), we could reject that.\n",
    "\n",
    "\n",
    "# Inspecting the Regression\n",
    " # Get more information about the regression model by using summary() method on the results of the model res.\n",
    "\n",
    "print(res.summary())"
   ]
  },
  {
   "cell_type": "code",
   "execution_count": 12,
   "metadata": {},
   "outputs": [
    {
     "data": {
      "text/plain": [
       "Text(0.5,0,'Predicted Values')"
      ]
     },
     "execution_count": 12,
     "metadata": {},
     "output_type": "execute_result"
    },
    {
     "data": {
      "image/png": "[encoded data removed]",
      "text/plain": [
       "<matplotlib.figure.Figure at 0x1a977b5aac8>"
      ]
     },
     "metadata": {},
     "output_type": "display_data"
    }
   ],
   "source": [
    "# Above - There are two parameters in the regression model\n",
    " #        1) intercept (shown as const)\n",
    " #        2) slope coefficent (shown as GDP)\n",
    " # Each exists in the population & we are estimating them in our sample.\n",
    " # p-value is P>|t|\n",
    " # The intercept is significant, meaning that it's \"not 0\" but at 3.2032.\n",
    " # The slope for GDP is 2.1842, can be confident that the slope is \"not 0\".\n",
    "   # GDP is predicting Happiness. For each unit of GDP, Happiness changes by 2.1842 units.\n",
    " # Confidence Intervals represent 95% CIs of probabilities of the coefficient from 2.5% to 97.5%, or a range of 95%.\n",
    "\n",
    "# Residuals - are the difference b/w actual value & predicted value.\n",
    " # Residual Plot - A scatter plot w/ residual values on vertical axis & predicted values or Score on horizontal axis.\n",
    "\n",
    "# Create a new data frame w/ predictor value & constant\n",
    "new_predict = data.GDP\n",
    "new_predict = sm.add_constant(new_predict, prepend = False)\n",
    "\n",
    "# Make prediction w/ new values\n",
    "new_predict['Score'] = res.predict(new_predict)\n",
    "\n",
    "# Compute residuals \n",
    "new_predict['Residuals'] = data.Happiness - new_predict.Score\n",
    "\n",
    "ax = plt.figure(figsize=(8, 8)).gca()    # define axis\n",
    "new_predict.plot.scatter(x='Score', y='Residuals', ax = ax)\n",
    "plt.title('Residuals vs. Predicted Values')\n",
    "plt.ylabel(\"Residual Values\")\n",
    "plt.xlabel('Predicted Values')"
   ]
  },
  {
   "cell_type": "code",
   "execution_count": 13,
   "metadata": {},
   "outputs": [
    {
     "data": {
      "text/plain": [
       "<matplotlib.axes._subplots.AxesSubplot at 0x1a97836e940>"
      ]
     },
     "execution_count": 13,
     "metadata": {},
     "output_type": "execute_result"
    },
    {
     "data": {
      "image/png": "[encoded data removed]",
      "text/plain": [
       "<matplotlib.figure.Figure at 0x1a9782ec828>"
      ]
     },
     "metadata": {},
     "output_type": "display_data"
    }
   ],
   "source": [
    "# Above - Residual values are generally in a small range & centered on zero.\n",
    " # There does not appear to be any particular change in dispersion (distribution) of residuals as the predicted score changes.\n",
    " # These observations indicate that the model is fairly good predictor of Happiness.\n",
    "\n",
    "# Residual Standard Error - basicially the \"average residual\", sometimes also called the \"standard error of the estimate\"\n",
    " # Assessing the average degree to which points vary around the line\n",
    "  # RSE = SQRT(Sum(y-y')^2 / (n-2))\n",
    " # Residual standard error for our model is 0.6617, meaning our Happiness predictions are \"off\" (on average) by 0.66 points.\n",
    "\n",
    "# Median Residual (50th percentile) is close to zero, meaning we are not systematically over-predicting or under-predicting.\n",
    "\n",
    "# Check for normal distribution.\n",
    "\n",
    "ax = plt.figure(figsize=(8, 6)).gca()     # define axis\n",
    "new_predict.Residuals.plot.hist(ax = ax)"
   ]
  },
  {
   "cell_type": "code",
   "execution_count": 14,
   "metadata": {},
   "outputs": [
    {
     "name": "stdout",
     "output_type": "stream",
     "text": [
      "                            OLS Regression Results                            \n",
      "==============================================================================\n",
      "Dep. Variable:              Happiness   R-squared:                       0.744\n",
      "Model:                            OLS   Adj. R-squared:                  0.741\n",
      "Method:                 Least Squares   F-statistic:                     221.3\n",
      "Date:                Fri, 23 Nov 2018   Prob (F-statistic):           9.64e-46\n",
      "Time:                        08:58:32   Log-Likelihood:                -132.85\n",
      "No. Observations:                 155   AIC:                             271.7\n",
      "Df Residuals:                     152   BIC:                             280.8\n",
      "Df Model:                           2                                         \n",
      "Covariance Type:            nonrobust                                         \n",
      "==============================================================================\n",
      "                 coef    std err          t      P>|t|      [0.025      0.975]\n",
      "------------------------------------------------------------------------------\n",
      "GDP            1.8736      0.119     15.788      0.000       1.639       2.108\n",
      "Freedom        2.3557      0.333      7.076      0.000       1.698       3.013\n",
      "const          2.5461      0.150     16.955      0.000       2.249       2.843\n",
      "==============================================================================\n",
      "Omnibus:                        4.155   Durbin-Watson:                   1.585\n",
      "Prob(Omnibus):                  0.125   Jarque-Bera (JB):                3.653\n",
      "Skew:                          -0.336   Prob(JB):                        0.161\n",
      "Kurtosis:                       3.336   Cond. No.                         11.3\n",
      "==============================================================================\n",
      "\n",
      "Warnings:\n",
      "[1] Standard Errors assume that the covariance matrix of the errors is correctly specified.\n"
     ]
    }
   ],
   "source": [
    "# Above- Looks like a healthy & valid regression model. Residuals are beautifully Normally distributed.\n",
    "\n",
    "# R^2 = 0.66 - represents the proportion of variance in the outcome (Happiness) that is explained by predictor(s) & is basically, the opposite of residuals.\n",
    " # Residuals represent unexplained variation while R^2 represents the portion of variation in Happiness that is explained.\n",
    "  # The better the model, the higher the R^2 & smaller the residuals.\n",
    "  # We have explained 66% of all the variance in Happiness w/ just the GDP.\n",
    "    \n",
    "# F-statistic is 297.1 w/ 153 DF (degrees of freedom), and a p-value of < 1.11e-37, which is a significane test for R^2 value.\n",
    " # Our model is explaining significant varaiation in happiness.\n",
    "  #Redundant to the test of significance for slope, but it becomes very helpful when there are multiple predictors as a quick snapshot of signifcance of model.\n",
    "\n",
    "## Multiple Regression\n",
    " # 3 reasons to add more predictors:\n",
    " #   1) Model predicts better given more information to predict with\n",
    " #   2) GDP may be caused by (& therefore serve as a proxy for) other variables that are more directly relevant\n",
    " #   3) GDP probably doesn't make people happy directly; it is likely causing other things like health care that are more directly relevant.\n",
    " # Reasons 2 & 3 are similiar but differ. Reason 2 suggests that something may be driving both GDP and Happiness (remember association/causal claims). GDP is acting as proxy\n",
    " #   for whatever that prior cause was...leading us to possibly misunderstand the role of GDP.\n",
    "   # Must statistically control for any prior causes if we want a good view of what effect GDP has on Happiness (we can't know whether GDP is the cause of the effect).\n",
    " # Reason 3 suggests that GDP may do things that, in turn, help Happiness. Can still control for those variables, by giving \"credit\" for that relationship to the more proximal variable.\n",
    " #    (It will appear that health, not GDP predicts Happiness). Try to remember that GDP may still be ultimately responsible.\n",
    " # There is no way to tell the difference b/w 2 & 3. Thus data anlysis needs subject matter expertise to draw good conclusions for observational data.\n",
    "\n",
    "# Controlling Prior Causes\n",
    " # Can easily control for a third (or forth, fifth, or any number) of variables just by simply adding them as other predictors in the regression.\n",
    " # One very helpful feature of regression is that every variable is examined controlling for/holding constant all the others, so regression lets you see the unique influence of each predictor.\n",
    "  # It other words, it lets you see what the slope for each predictor would be, had participants has the same score on all the other predictors.\n",
    "   # IMPORTANT- THis only works if you though ahead & measured every variable you need to control for.\n",
    "    # This is another reason to advocate for collecting data & not simply relying on existing data repositories.\n",
    "    \n",
    "# Let's try to control for freedom\n",
    "\n",
    "# Add a constant term to array of predictors to get an intercept term\n",
    "predictors = sm.add_constant(data[['GDP','Freedom']], prepend = False)\n",
    "\n",
    "lm_mod_2 = sm.OLS(data.Happiness, predictors)\n",
    "res_2 = lm_mod_2.fit()\n",
    "print(res_2.summary())"
   ]
  },
  {
   "cell_type": "code",
   "execution_count": 15,
   "metadata": {},
   "outputs": [
    {
     "name": "stderr",
     "output_type": "stream",
     "text": [
      "C:\\Users\\Samantha\\Anaconda3\\lib\\site-packages\\scipy\\stats\\_distn_infrastructure.py:879: RuntimeWarning: invalid value encountered in greater\n",
      "  return (self.a < x) & (x < self.b)\n",
      "C:\\Users\\Samantha\\Anaconda3\\lib\\site-packages\\scipy\\stats\\_distn_infrastructure.py:879: RuntimeWarning: invalid value encountered in less\n",
      "  return (self.a < x) & (x < self.b)\n",
      "C:\\Users\\Samantha\\Anaconda3\\lib\\site-packages\\scipy\\stats\\_distn_infrastructure.py:1821: RuntimeWarning: invalid value encountered in less_equal\n",
      "  cond2 = cond0 & (x <= self.a)\n"
     ]
    },
    {
     "data": {
      "text/html": [
       "<div>\n",
       "<style scoped>\n",
       "    .dataframe tbody tr th:only-of-type {\n",
       "        vertical-align: middle;\n",
       "    }\n",
       "\n",
       "    .dataframe tbody tr th {\n",
       "        vertical-align: top;\n",
       "    }\n",
       "\n",
       "    .dataframe thead th {\n",
       "        text-align: right;\n",
       "    }\n",
       "</style>\n",
       "<table border=\"1\" class=\"dataframe\">\n",
       "  <thead>\n",
       "    <tr style=\"text-align: right;\">\n",
       "      <th></th>\n",
       "      <th>df_resid</th>\n",
       "      <th>ssr</th>\n",
       "      <th>df_diff</th>\n",
       "      <th>ss_diff</th>\n",
       "      <th>F</th>\n",
       "      <th>Pr(&gt;F)</th>\n",
       "    </tr>\n",
       "  </thead>\n",
       "  <tbody>\n",
       "    <tr>\n",
       "      <th>0</th>\n",
       "      <td>153.0</td>\n",
       "      <td>66.983338</td>\n",
       "      <td>0.0</td>\n",
       "      <td>NaN</td>\n",
       "      <td>NaN</td>\n",
       "      <td>NaN</td>\n",
       "    </tr>\n",
       "    <tr>\n",
       "      <th>1</th>\n",
       "      <td>152.0</td>\n",
       "      <td>50.385944</td>\n",
       "      <td>1.0</td>\n",
       "      <td>16.597394</td>\n",
       "      <td>50.069597</td>\n",
       "      <td>5.094782e-11</td>\n",
       "    </tr>\n",
       "  </tbody>\n",
       "</table>\n",
       "</div>"
      ],
      "text/plain": [
       "   df_resid        ssr  df_diff    ss_diff          F        Pr(>F)\n",
       "0     153.0  66.983338      0.0        NaN        NaN           NaN\n",
       "1     152.0  50.385944      1.0  16.597394  50.069597  5.094782e-11"
      ]
     },
     "execution_count": 15,
     "metadata": {},
     "output_type": "execute_result"
    }
   ],
   "source": [
    "# Above - The residual standard error (average mis-prediction) has decreased some & our R^2 has increased.\n",
    " # That tells us we have \"added\" to our ability to predict Happiness.\n",
    "    \n",
    "# Can test whether that increase is significant w/ anova_lm(mod, mod2) from statsmodels.stats.anova package.\n",
    "\n",
    "anova_lm(res, res_2, typ = 1)\n",
    "# Can ignore RuntimeWarnings you get."
   ]
  },
  {
   "cell_type": "code",
   "execution_count": null,
   "metadata": {},
   "outputs": [],
   "source": [
    "# Above- This runs an F test w/ a significant result (p-value is Pr(>F), i.e., < 0.05). \n",
    " # This tells us that adding health/life expectancy (Freedom) significantly (i.e., greater than chance) improved our prediction of Happiness.\n",
    " # R^2 value went up by 0.08 (i.e., 8.6%, mod: 0.66, mod2: 0.74) so we have explained an additional 8.6% of Happiness\n",
    "  # Happiness' = 2.55 + 1.87*(GDP) + 2.36*(Freedom)\n",
    " # Slopes for GDP & Freedom are still significant. Can be confident to some degree that they each predict Happiness w/ the other controlled.\n",
    "  # Each has some unique or independent relationship w/ Happiness.\n",
    "    \n",
    " # Slope for GDP went down, originally 2.184 & now 1.874, a difference of 0.31.\n",
    "  # 0.31/2.184 = 0.14, slope went down by 14%.\n",
    "  # 14% of what was previously attributed to GDP can now actually attribute to freedom.\n",
    "  # This shows just how important is is to control for things: we were seriously overesgtimating the importance of GDP.\n",
    "    \n",
    "# If we want to measure, as best as we can, the impact of a predictor on the outcome it is a requirement that we control for any possible hidden \n",
    "#   drivers of your predictor that might actually be responsible for your outcome.\n",
    " # In existing data sets, you are tempted to draw conclusions on basis of data you have, not the data you don't have (which could be necessary as a statistical control).\n",
    " # Very important to seriously consider what variables might be causing both your predictor & your outcome;\n",
    "  # if these are not statistically controlled, then false conclusions are possible. "
   ]
  },
  {
   "cell_type": "code",
   "execution_count": 16,
   "metadata": {},
   "outputs": [
    {
     "name": "stdout",
     "output_type": "stream",
     "text": [
      "Adjusted coefficient for GDP = 0.6969353395951943\n",
      "Adjusted coefficient for Freedom = 0.3123593556398887\n"
     ]
    }
   ],
   "source": [
    "## Standarized Slopes - interested in which variable is the stronger predictor.\n",
    "  # Standarize slopes by putting them on the same scale so they can be directly compared.\n",
    "   # Take each slope & multiplying it by the ratio of the standard deviations\n",
    "    # b = (SD_x)/(SD_y)  FUnctinally this changes nothing, only the units (becomes standard deviations).\n",
    "    \n",
    "print('Adjusted coefficient for GDP = ' + str(res_2.params[0] * np.std(data.GDP)/np.std(data.Happiness)))\n",
    "print('Adjusted coefficient for Freedom = ' + str(res_2.params[1] * np.std(data.Freedom)/np.std(data.Happiness)))"
   ]
  },
  {
   "cell_type": "code",
   "execution_count": 17,
   "metadata": {},
   "outputs": [
    {
     "data": {
      "text/plain": [
       "<matplotlib.axes._subplots.AxesSubplot at 0x1a9784ef9e8>"
      ]
     },
     "execution_count": 17,
     "metadata": {},
     "output_type": "execute_result"
    },
    {
     "data": {
      "image/png": "[encoded data removed]",
      "text/plain": [
       "<matplotlib.figure.Figure at 0x1a977b5aa58>"
      ]
     },
     "metadata": {},
     "output_type": "display_data"
    }
   ],
   "source": [
    "# Above- GDP has a much larger estimated effect than Freedom.\n",
    " # (The difference b/w slopes can also be tested for significance, ideally w/ something called bootstrapping, but won't be explored.)\n",
    "    \n",
    "# Multiple Regression - can examine relationships b/w any variables,controlling for any number of others.\n",
    " # To assess what variables are most important predictors, standardized slopes offer easy solution (they are often comparable to correlations as well, providing a rough mental guide for interpreting them.)\n",
    "    \n",
    "## Assumptions of Regression\n",
    " # Our assumptions are:\n",
    " #   1) Linear model is appropriate\n",
    " #   2) Homoskedasticity\n",
    " #   3) Observations are independent\n",
    " #   4) Our residuals must be normally distributed\n",
    " #   5) Our residuals should have a mean of zero\n",
    " #   6) The model is correctly specifiied\n",
    " #   7) Multicollinearity is not a problem\n",
    "\n",
    "# Assumption #1 - Is a linear model appropriate?\n",
    " # Note that there are a few cases where this IS violated.\n",
    "  # 1. If y-variable has only two levels (e.g., \"purchased product\", \"did not purchase product\"), then a linear model is not appropriate (use logisitic regression)\n",
    "  # 2. If y-variable is a \"count\" of something (e.g., how many pairs of shoes owned), negative numbers are impossible & slopes will need to 'bend' as they approach x-axis so they don't cross it.\n",
    "   # There are 'count' model for that.\n",
    "  # 3. Math allows for any shape of regression line. Usually simpler models are more correct unless you have good reason to make it non-linear.\n",
    "   # The more complex a model, the more likely it is to be a \"false positive\" finding.\n",
    "\n",
    "# Assumption #2 - Homoskedasicity\n",
    " # Residuals are the same all the way up & down the line. Near line at one end & fans out at other end.\n",
    "  # p-values for slopes use residuals in equations, so if they cary systematically throughout graph, that is a problem.\n",
    "\n",
    "# Assumption #3 - Observations are independent\n",
    " # Data points don't influence each other, which influences residuals, which influences p-values in a problematic way.\n",
    " # Violating this assumption tends to make the findings MORE significant so it's good to account for any kind of 'nesting' substructure.\n",
    " # Having multiple data points on same observation is one common way to violate this assumption, but other kinds of nesting might as well.\n",
    "  # Example- data may be nested w/in stores in a way we might want to account for. Linear mixed model is often better & simply extends regression somewhat to account for nesting.\n",
    "\n",
    "# Assumption #4 & #5 - Residuals must be Normally distributed & w/ mean of 0.\n",
    " # Can check w/ histogram\n",
    "    \n",
    "# Create a new data frame w/ predictor values & constant\n",
    "new_predict = data[['GDP','Freedom']]\n",
    "new_predict = sm.add_constant(new_predict, prepend = False)\n",
    "\n",
    "# Make prediction w/ new values & 2 predictor model\n",
    "new_predict['Score'] = res_2.predict(new_predict)\n",
    "\n",
    "# Compute residuals \n",
    "new_predict['Residuals'] = data.Happiness - new_predict.Score\n",
    "\n",
    "# Plot histogram of residuals\n",
    "ax = plt.figure(figsize=(8, 6)).gca()    # define axis\n",
    "new_predict.Residuals.plot.hist(ax = ax)"
   ]
  },
  {
   "cell_type": "code",
   "execution_count": 19,
   "metadata": {},
   "outputs": [
    {
     "data": {
      "text/plain": [
       "-1.9110161481934955e-15"
      ]
     },
     "execution_count": 19,
     "metadata": {},
     "output_type": "execute_result"
    }
   ],
   "source": [
    "# Above - Histogram is roughly normal.\n",
    " \n",
    "# Check mean\n",
    "\n",
    "new_predict['Residuals'].mean()"
   ]
  },
  {
   "cell_type": "code",
   "execution_count": null,
   "metadata": {},
   "outputs": [],
   "source": [
    "# Above- It has some skew, but it's not terrible.\n",
    "\n",
    "# Normality of residuals tends to be violated if outcome (y-variable) is skewed.\n",
    " # Transformation can be done to outcome variable to make it more normal, but such a transformation is not needed here.\n",
    "    \n",
    "\n",
    "# Assumption #6 - Include all causes of outcome in model.\n",
    " # Although impossible in practice, can reasonably think through what varaibles are needed to control for when running the regression.\n",
    "  # You need to know what to control for before the data are collected.\n",
    "\n",
    "# Assumption #7- Multicollinearity is not a problem.\n",
    " # When you control for a variable (e.g., looking at GDP & Happiness, controlling for Freedom), you can cause a problem called multicollinearity.\n",
    " # When predictors overlap (correlate) too much among each other, they become useless.\n",
    "  # In general it's good to avoid having high correlations among predictors, (r= 0.80, r= 0.90, etc.).\n",
    "   # Slopes can act oddly in such cases, even when reversing directions."
   ]
  }
 ],
 "metadata": {
  "kernelspec": {
   "display_name": "Python 3",
   "language": "python",
   "name": "python3"
  },
  "language_info": {
   "codemirror_mode": {
    "name": "ipython",
    "version": 3
   },
   "file_extension": ".py",
   "mimetype": "text/x-python",
   "name": "python",
   "nbconvert_exporter": "python",
   "pygments_lexer": "ipython3",
   "version": "3.6.4"
  }
 },
 "nbformat": 4,
 "nbformat_minor": 2
}
