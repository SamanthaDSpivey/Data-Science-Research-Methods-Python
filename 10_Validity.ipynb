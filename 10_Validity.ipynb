{
 "cells": [
  {
   "cell_type": "code",
   "execution_count": 1,
   "metadata": {},
   "outputs": [],
   "source": [
    "## Validity - ensuring that the measure actually captures what it claims to.\n",
    " # Face Validity - does the measure look valid at face level?\n",
    "   # Is subjective but important\n",
    " # Content Validity - does the measure have the appropriate breadth?\n",
    "   # Also subjective. Might consider other words that should be included or might consider removing some that don't belong.\n",
    " # Criterion Validity - does the variable correlate in ways that a good measure should?\n",
    "   # It presumes that you have picked a good set of outcomes to correlate it with & that those are also measured validly.\n",
    "   # This will be demonstrated below.\n",
    "    \n",
    "\n",
    "# Import/load packages to be used\n",
    "\n",
    "import pandas as pd\n",
    "data = pd.read_csv(\"datasets/validity.csv\", index_col = 'Unnamed: 0')"
   ]
  },
  {
   "cell_type": "code",
   "execution_count": 2,
   "metadata": {},
   "outputs": [
    {
     "name": "stdout",
     "output_type": "stream",
     "text": [
      "sent        int64\n",
      "WC          int64\n",
      "rating      int64\n",
      "purchase    int64\n",
      "dtype: object\n"
     ]
    },
    {
     "data": {
      "text/html": [
       "<div>\n",
       "<style scoped>\n",
       "    .dataframe tbody tr th:only-of-type {\n",
       "        vertical-align: middle;\n",
       "    }\n",
       "\n",
       "    .dataframe tbody tr th {\n",
       "        vertical-align: top;\n",
       "    }\n",
       "\n",
       "    .dataframe thead th {\n",
       "        text-align: right;\n",
       "    }\n",
       "</style>\n",
       "<table border=\"1\" class=\"dataframe\">\n",
       "  <thead>\n",
       "    <tr style=\"text-align: right;\">\n",
       "      <th></th>\n",
       "      <th>sent</th>\n",
       "      <th>WC</th>\n",
       "      <th>rating</th>\n",
       "      <th>purchase</th>\n",
       "    </tr>\n",
       "  </thead>\n",
       "  <tbody>\n",
       "    <tr>\n",
       "      <th>1</th>\n",
       "      <td>5</td>\n",
       "      <td>3</td>\n",
       "      <td>5</td>\n",
       "      <td>2</td>\n",
       "    </tr>\n",
       "    <tr>\n",
       "      <th>2</th>\n",
       "      <td>10</td>\n",
       "      <td>1</td>\n",
       "      <td>6</td>\n",
       "      <td>4</td>\n",
       "    </tr>\n",
       "    <tr>\n",
       "      <th>3</th>\n",
       "      <td>8</td>\n",
       "      <td>2</td>\n",
       "      <td>7</td>\n",
       "      <td>3</td>\n",
       "    </tr>\n",
       "    <tr>\n",
       "      <th>4</th>\n",
       "      <td>6</td>\n",
       "      <td>4</td>\n",
       "      <td>6</td>\n",
       "      <td>3</td>\n",
       "    </tr>\n",
       "    <tr>\n",
       "      <th>5</th>\n",
       "      <td>9</td>\n",
       "      <td>2</td>\n",
       "      <td>7</td>\n",
       "      <td>4</td>\n",
       "    </tr>\n",
       "  </tbody>\n",
       "</table>\n",
       "</div>"
      ],
      "text/plain": [
       "   sent  WC  rating  purchase\n",
       "1     5   3       5         2\n",
       "2    10   1       6         4\n",
       "3     8   2       7         3\n",
       "4     6   4       6         3\n",
       "5     9   2       7         4"
      ]
     },
     "execution_count": 2,
     "metadata": {},
     "output_type": "execute_result"
    }
   ],
   "source": [
    "# Briefly explore data\n",
    "\n",
    "print(data.dtypes)\n",
    "\n",
    "data.head()"
   ]
  },
  {
   "cell_type": "code",
   "execution_count": 3,
   "metadata": {},
   "outputs": [
    {
     "data": {
      "text/html": [
       "<div>\n",
       "<style scoped>\n",
       "    .dataframe tbody tr th:only-of-type {\n",
       "        vertical-align: middle;\n",
       "    }\n",
       "\n",
       "    .dataframe tbody tr th {\n",
       "        vertical-align: top;\n",
       "    }\n",
       "\n",
       "    .dataframe thead th {\n",
       "        text-align: right;\n",
       "    }\n",
       "</style>\n",
       "<table border=\"1\" class=\"dataframe\">\n",
       "  <thead>\n",
       "    <tr style=\"text-align: right;\">\n",
       "      <th></th>\n",
       "      <th>sent</th>\n",
       "      <th>WC</th>\n",
       "      <th>rating</th>\n",
       "      <th>purchase</th>\n",
       "    </tr>\n",
       "  </thead>\n",
       "  <tbody>\n",
       "    <tr>\n",
       "      <th>sent</th>\n",
       "      <td>1.00</td>\n",
       "      <td>0.30</td>\n",
       "      <td>0.69</td>\n",
       "      <td>0.55</td>\n",
       "    </tr>\n",
       "    <tr>\n",
       "      <th>WC</th>\n",
       "      <td>0.30</td>\n",
       "      <td>1.00</td>\n",
       "      <td>0.15</td>\n",
       "      <td>0.05</td>\n",
       "    </tr>\n",
       "    <tr>\n",
       "      <th>rating</th>\n",
       "      <td>0.69</td>\n",
       "      <td>0.15</td>\n",
       "      <td>1.00</td>\n",
       "      <td>0.32</td>\n",
       "    </tr>\n",
       "    <tr>\n",
       "      <th>purchase</th>\n",
       "      <td>0.55</td>\n",
       "      <td>0.05</td>\n",
       "      <td>0.32</td>\n",
       "      <td>1.00</td>\n",
       "    </tr>\n",
       "  </tbody>\n",
       "</table>\n",
       "</div>"
      ],
      "text/plain": [
       "          sent    WC  rating  purchase\n",
       "sent      1.00  0.30    0.69      0.55\n",
       "WC        0.30  1.00    0.15      0.05\n",
       "rating    0.69  0.15    1.00      0.32\n",
       "purchase  0.55  0.05    0.32      1.00"
      ]
     },
     "execution_count": 3,
     "metadata": {},
     "output_type": "execute_result"
    }
   ],
   "source": [
    "# Assess the correlations to see if the sentiment measure criterion valid.\n",
    "\n",
    "corr_mat = data.corr().round(2)\n",
    "corr_mat"
   ]
  },
  {
   "cell_type": "code",
   "execution_count": 4,
   "metadata": {},
   "outputs": [
    {
     "name": "stdout",
     "output_type": "stream",
     "text": [
      "\n",
      "For sent vs. WC\n",
      "Correlation = 0.300 with CI of 0.243 to 0.355\n",
      "\n",
      "For sent vs. rating\n",
      "Correlation = 0.690 with CI of 0.656 to 0.721\n",
      "\n",
      "For sent vs. purchase\n",
      "Correlation = 0.550 with CI of 0.505 to 0.592\n"
     ]
    }
   ],
   "source": [
    "# Above - Sentiment variable correlates at 0.30 w/ word count (WC), 0.69 w/ product rating, & 0.55 w/ purchase likelihood.\n",
    " # Those correlations are larger than they are b/w other measures.\n",
    "    # The rating variable is not correlating more strongly w/ the other variables.\n",
    "    \n",
    "# Compute the confidence intervals (CIs) of these correlation coefficients.\n",
    "  # Remember from the association notebook...\n",
    "  # 1) Transform correlation from initial space which we call r to a transformed space z, w/ a Normal distribution of errors.\n",
    "  # 2) Compute the CI in the transformed space.\n",
    "  # 3) Transform back to the original space.\n",
    "\n",
    "\n",
    "import numpy as np\n",
    "import scipy.stats as ss\n",
    "import math\n",
    "\n",
    "def r_z(r):\n",
    "    return math.log((1 + r) / (1 - r)) / 2.0\n",
    "\n",
    "def z_r(z):\n",
    "    e = math.exp(2 * z)\n",
    "    return((e - 1) / (e + 1))\n",
    "\n",
    "def r_conf_int(r, alpha, n):\n",
    "    # Transform r to z space\n",
    "    z = r_z(r)\n",
    "    # Compute standard error & critcal value in z\n",
    "    se = 1.0 / math.sqrt(n - 3)\n",
    "    z_crit = ss.norm.ppf(1 - alpha/ 2)\n",
    "\n",
    "    ## Compute CIs w/ transform to r\n",
    "    lo = z_r(z - z_crit * se)\n",
    "    hi = z_r(z + z_crit * se)\n",
    "    return (lo, hi)\n",
    "\n",
    "def print_cis(corr_mat, var1, var2, idx1, idx2):\n",
    "    print('\\nFor ' + var1 + ' vs. ' + var2)\n",
    "    conf_ints = r_conf_int(corr_mat[idx1, idx2], 0.05, 1000)\n",
    "    print('Correlation = %4.3f with CI of %4.3f to %4.3f' % (corr_mat[idx1, idx2], conf_ints[0], conf_ints[1]))\n",
    "\n",
    "corr_mat = np.array(corr_mat)\n",
    "\n",
    "print_cis(corr_mat, 'sent', 'WC', 1, 0)\n",
    "print_cis(corr_mat, 'sent', 'rating', 0, 2)\n",
    "print_cis(corr_mat, 'sent', 'purchase', 0, 3)\n"
   ]
  },
  {
   "cell_type": "code",
   "execution_count": 5,
   "metadata": {},
   "outputs": [],
   "source": [
    "# Confidence intervals for correlation w/ sentiment are all small, appearing that all three correlation are significant."
   ]
  }
 ],
 "metadata": {
  "kernelspec": {
   "display_name": "Python 3",
   "language": "python",
   "name": "python3"
  },
  "language_info": {
   "codemirror_mode": {
    "name": "ipython",
    "version": 3
   },
   "file_extension": ".py",
   "mimetype": "text/x-python",
   "name": "python",
   "nbconvert_exporter": "python",
   "pygments_lexer": "ipython3",
   "version": "3.6.4"
  }
 },
 "nbformat": 4,
 "nbformat_minor": 2
}
