{
 "cells": [
  {
   "cell_type": "code",
   "execution_count": 1,
   "metadata": {},
   "outputs": [
    {
     "name": "stderr",
     "output_type": "stream",
     "text": [
      "Installing package into 'C:/Users/Samantha/Documents/R/win-library/3.5'\n",
      "(as 'lib' is unspecified)\n"
     ]
    },
    {
     "name": "stdout",
     "output_type": "stream",
     "text": [
      "package 'psych' successfully unpacked and MD5 sums checked\n",
      "\n",
      "The downloaded binary packages are in\n",
      "\tC:\\Users\\Samantha\\AppData\\Local\\Temp\\RtmpWcf9Gz\\downloaded_packages\n"
     ]
    },
    {
     "name": "stderr",
     "output_type": "stream",
     "text": [
      "Warning message:\n",
      "\"package 'psych' was built under R version 3.5.1\""
     ]
    }
   ],
   "source": [
    "## Reliability (In R code since no python packages have functionality to perform reliability analysis)\n",
    "  # Reliability = consistency in measurement, & is bare minimum for measurement to be sound.\n",
    "\n",
    "# Import/load packages to be used\n",
    " # The psych package for psychometrics (reliability analysis) will be used\n",
    "\n",
    "install.packages('psych')\n",
    "library(psych)"
   ]
  },
  {
   "cell_type": "code",
   "execution_count": 3,
   "metadata": {},
   "outputs": [],
   "source": [
    "# A survey questionnaire were provided to 200 people to ask their impressions of a taco brand/company on 5 adjectives representing core themes\n",
    " #   in branding process & agreed upon by executive board of company.\n",
    " # Each paricipant rated how much each adjective describes the brand on a 1 (not at all) to 10 (completely) scale.\n",
    " # Company has suggested the participant score can form a \"brand value\" index.\n",
    " #  1) Inviting\n",
    " #  2) Friendly\n",
    " #  3) Awesome\n",
    " #  4) Quirky\n",
    " #  5) Pleasant\n",
    "\n",
    "\n",
    "# Seek to know whether these question reliably & consisently measure brand sentiment. Must first ask 3 questions:\n",
    " #  1) Are answers to these questions interrelated?\n",
    " #  2) If so, there evidence that these items seem to be measuring \"one thing\" or \"more than one thing\"?\n",
    " #  3) If they are measuring one thing, do they do so reliably & how can we optimize relability?\n",
    "\n",
    "\n",
    "# Import dataset to be used\n",
    "data <- read.csv(\"datasets/measurement.csv\")"
   ]
  },
  {
   "cell_type": "code",
   "execution_count": 4,
   "metadata": {},
   "outputs": [
    {
     "data": {
      "text/plain": [
       "       id            friendly         inviting         awesome      \n",
       " Min.   :  1.00   Min.   : 4.455   Min.   : 3.092   Min.   : 3.221  \n",
       " 1st Qu.: 50.75   1st Qu.: 6.860   1st Qu.: 6.800   1st Qu.: 6.656  \n",
       " Median :100.50   Median : 7.960   Median : 7.873   Median : 8.215  \n",
       " Mean   :100.50   Mean   : 7.917   Mean   : 7.796   Mean   : 7.899  \n",
       " 3rd Qu.:150.25   3rd Qu.: 9.080   3rd Qu.: 9.047   3rd Qu.: 9.255  \n",
       " Max.   :200.00   Max.   :10.000   Max.   :10.000   Max.   :10.000  \n",
       "     quirky         pleasant     \n",
       " Min.   : 8.71   Min.   : 3.976  \n",
       " 1st Qu.:10.00   1st Qu.: 6.832  \n",
       " Median :10.00   Median : 7.793  \n",
       " Mean   : 9.97   Mean   : 7.809  \n",
       " 3rd Qu.:10.00   3rd Qu.: 9.167  \n",
       " Max.   :10.00   Max.   :10.000  "
      ]
     },
     "metadata": {},
     "output_type": "display_data"
    }
   ],
   "source": [
    "# Explore the data\n",
    "\n",
    "summary(data)"
   ]
  },
  {
   "cell_type": "code",
   "execution_count": 5,
   "metadata": {},
   "outputs": [
    {
     "data": {
      "text/html": [
       "<ol class=list-inline>\n",
       "\t<li>'friendly'</li>\n",
       "\t<li>'inviting'</li>\n",
       "\t<li>'awesome'</li>\n",
       "\t<li>'quirky'</li>\n",
       "\t<li>'pleasant'</li>\n",
       "</ol>\n"
      ],
      "text/latex": [
       "\\begin{enumerate*}\n",
       "\\item 'friendly'\n",
       "\\item 'inviting'\n",
       "\\item 'awesome'\n",
       "\\item 'quirky'\n",
       "\\item 'pleasant'\n",
       "\\end{enumerate*}\n"
      ],
      "text/markdown": [
       "1. 'friendly'\n",
       "2. 'inviting'\n",
       "3. 'awesome'\n",
       "4. 'quirky'\n",
       "5. 'pleasant'\n",
       "\n",
       "\n"
      ],
      "text/plain": [
       "[1] \"friendly\" \"inviting\" \"awesome\"  \"quirky\"   \"pleasant\""
      ]
     },
     "metadata": {},
     "output_type": "display_data"
    }
   ],
   "source": [
    "# Do these five adjectives reliably form a single index of anything?\n",
    " # Check the correlations among the items\n",
    "  # Can drop id variable, as all commands from here on out require that we input a data frame that has only the items needed for analysis.\n",
    "   # Could also make new data fram just for items you want if you are working w/ a larger set of data.\n",
    "\n",
    "data <- data[, -1]\n",
    "names(data)"
   ]
  },
  {
   "cell_type": "code",
   "execution_count": 6,
   "metadata": {},
   "outputs": [
    {
     "data": {
      "text/html": [
       "<table>\n",
       "<thead><tr><th></th><th scope=col>friendly</th><th scope=col>inviting</th><th scope=col>awesome</th><th scope=col>quirky</th><th scope=col>pleasant</th></tr></thead>\n",
       "<tbody>\n",
       "\t<tr><th scope=row>friendly</th><td>1.00</td><td>0.81</td><td>0.80</td><td>0.30</td><td>0.81</td></tr>\n",
       "\t<tr><th scope=row>inviting</th><td>0.81</td><td>1.00</td><td>0.70</td><td>0.22</td><td>0.64</td></tr>\n",
       "\t<tr><th scope=row>awesome</th><td>0.80</td><td>0.70</td><td>1.00</td><td>0.23</td><td>0.64</td></tr>\n",
       "\t<tr><th scope=row>quirky</th><td>0.30</td><td>0.22</td><td>0.23</td><td>1.00</td><td>0.27</td></tr>\n",
       "\t<tr><th scope=row>pleasant</th><td>0.81</td><td>0.64</td><td>0.64</td><td>0.27</td><td>1.00</td></tr>\n",
       "</tbody>\n",
       "</table>\n"
      ],
      "text/latex": [
       "\\begin{tabular}{r|lllll}\n",
       "  & friendly & inviting & awesome & quirky & pleasant\\\\\n",
       "\\hline\n",
       "\tfriendly & 1.00 & 0.81 & 0.80 & 0.30 & 0.81\\\\\n",
       "\tinviting & 0.81 & 1.00 & 0.70 & 0.22 & 0.64\\\\\n",
       "\tawesome & 0.80 & 0.70 & 1.00 & 0.23 & 0.64\\\\\n",
       "\tquirky & 0.30 & 0.22 & 0.23 & 1.00 & 0.27\\\\\n",
       "\tpleasant & 0.81 & 0.64 & 0.64 & 0.27 & 1.00\\\\\n",
       "\\end{tabular}\n"
      ],
      "text/markdown": [
       "\n",
       "| <!--/--> | friendly | inviting | awesome | quirky | pleasant | \n",
       "|---|---|---|---|---|\n",
       "| friendly | 1.00 | 0.81 | 0.80 | 0.30 | 0.81 | \n",
       "| inviting | 0.81 | 1.00 | 0.70 | 0.22 | 0.64 | \n",
       "| awesome | 0.80 | 0.70 | 1.00 | 0.23 | 0.64 | \n",
       "| quirky | 0.30 | 0.22 | 0.23 | 1.00 | 0.27 | \n",
       "| pleasant | 0.81 | 0.64 | 0.64 | 0.27 | 1.00 | \n",
       "\n",
       "\n"
      ],
      "text/plain": [
       "         friendly inviting awesome quirky pleasant\n",
       "friendly 1.00     0.81     0.80    0.30   0.81    \n",
       "inviting 0.81     1.00     0.70    0.22   0.64    \n",
       "awesome  0.80     0.70     1.00    0.23   0.64    \n",
       "quirky   0.30     0.22     0.23    1.00   0.27    \n",
       "pleasant 0.81     0.64     0.64    0.27   1.00    "
      ]
     },
     "metadata": {},
     "output_type": "display_data"
    }
   ],
   "source": [
    "# Now check for correlation on measures\n",
    "\n",
    "round(cor(data), 2)"
   ]
  },
  {
   "cell_type": "code",
   "execution_count": 7,
   "metadata": {},
   "outputs": [
    {
     "name": "stderr",
     "output_type": "stream",
     "text": [
      "Warning message in fac(r = r, nfactors = nfactors, n.obs = n.obs, rotate = rotate, :\n",
      "\" A loading greater than abs(1) was detected.  Examine the loadings carefully.\"The estimated weights for the factor scores are probably incorrect.  Try a different factor extraction method.\n",
      "Warning message in fac(r = r, nfactors = nfactors, n.obs = n.obs, rotate = rotate, :\n",
      "\"An ultra-Heywood case was detected.  Examine the results carefully\""
     ]
    },
    {
     "name": "stdout",
     "output_type": "stream",
     "text": [
      "Parallel analysis suggests that the number of factors =  1  and the number of components =  NA \n"
     ]
    },
    {
     "data": {
      "image/png": "[encoded data removed]",
      "text/plain": [
       "Plot with title \"Parallel Analysis Scree Plots\""
      ]
     },
     "metadata": {},
     "output_type": "display_data"
    }
   ],
   "source": [
    "# Above - Most of the items are strongly inter-correlated, except for 'quirky'.\n",
    "  #  Flag as possible odd item.\n",
    "\n",
    "\n",
    "# One Dimension?\n",
    " # Can break down reliability test into 2 stages\n",
    " #  1) Can ask whether we are measuring \"one thing\" or several things.\n",
    "    # Factor analysis - similiar to \"principle component analysis\" tells us how many underlying dimensions appear to be operating beneath this set of variables.\n",
    "     # Analyzes patterns of association b/w items to determine if they \"cluster together\" & if so, how.     \n",
    "     # \"Items\" - are questions in survey writing\n",
    "     # \"Factors\" - are underlying dimensions\n",
    " # It computes a number of \"eigenvalues\" for the data\n",
    "  # Historically, the number of eigenvalues above 1.0 was seen as the number of factors in the data.\n",
    "   # Example - If we had 3 eigenvalues above 1.0, that would be evidence that our questions measure 3 underlying dimensions.\n",
    "  # Modern techniques involve a \"parellel analysis\" in which the computer generates random data  (based on your data) but w/ no underlying factors.\n",
    "   # Where your data differ from the simulated data, you have evidence for a factor.\n",
    "   # We\n",
    "\n",
    "# Will use fa.parallel() from psych package using the minres factor method (fm ='minres') which makes few assumptions about normality of data\n",
    " # Also tell it to be a \"factor analysis\" (fa = 'fa')\n",
    "\n",
    "fa.parallel(data, fm = 'minres', fa = 'fa')"
   ]
  },
  {
   "cell_type": "code",
   "execution_count": 8,
   "metadata": {},
   "outputs": [
    {
     "data": {
      "text/plain": [
       "\n",
       "Loadings:\n",
       "         MR1  \n",
       "friendly 0.992\n",
       "inviting 0.818\n",
       "awesome  0.812\n",
       "quirky   0.299\n",
       "pleasant 0.805\n",
       "\n",
       "                 MR1\n",
       "SS loadings    3.048\n",
       "Proportion Var 0.610"
      ]
     },
     "metadata": {},
     "output_type": "display_data"
    }
   ],
   "source": [
    "# Above - The computer here is telling us that we see evidence for one factor & supported by the graph.\n",
    " # Red lines in graph represent results from random computer-generated data, whereas blue line represents our data.\n",
    " # For column labeled \"factor number 1\", blue line & red lines diverge (evidence of a factor).\n",
    "  # Further, \"eigenvalue\" for that colum is above 1.0 (height of blue triangle on y-axis).\n",
    " # Remaining columns on graph, our data (blue line) gives identical results to simulated data (red lines), thus no evidence for any additional factors.\n",
    "  # Can conclude that we have one underlying dimension to our data & thus we are measuring \"one thing\" w/ this set of questions.\n",
    "\n",
    "\n",
    "# Can focus on in on our questions & consider whether our items each correlate well (called \"loadings\") w/ the \"one underlying dimension\".\n",
    " # A good question is conceptually close to underlying dimension & therefore doesn't 'pick up' on a lot of other junk.\n",
    "\n",
    "# Will run a more detailed factor analysis using fa() command from psych package, specifically asking it to retrieve one factor.\n",
    " # Then look at the \"loadings\". Good correlations should be highly correlated to our underlying dimension.\n",
    "  # Be wary of anything in the 0.3 - 0.5 range or below.\n",
    " # Loadings are given in in the column labeled MR1.\n",
    " # NOTE - Can get much more detailed analyses if you omit the $loadings code, but you won't be able to make sense of it without a richer understanding of factor analysis, which is beyond this tutorial).\n",
    "\n",
    "fa(data, nfactors = 1, fm = \"minres\")$loadings"
   ]
  },
  {
   "cell_type": "code",
   "execution_count": null,
   "metadata": {},
   "outputs": [],
   "source": [
    "# Above - \"friendly\", \"inviting\", \"awesome\" & \"pleasant\" questions are higly correlated (~0.80) w/ underlying factor. \n",
    " # \"Quirky\" does not load as well, w/ a weak correlation & loading at only 0.299.\n",
    "  # Consider analyzing \"quirky\" separately or removing it from the measure completely.\n",
    "\n",
    "# Factor analyses almost always overfit the data (i.e. they will model the sample data perfectly).\n",
    " # Thus, they are often worth replicating in a separate set of data, if possible.\n",
    " # Sometimes useful to split data in half, training the model in one set of data & cross-validating in other."
   ]
  },
  {
   "cell_type": "code",
   "execution_count": 9,
   "metadata": {},
   "outputs": [
    {
     "data": {
      "text/plain": [
       "\n",
       "Reliability analysis   \n",
       "Call: psych::alpha(x = data)\n",
       "\n",
       "  raw_alpha std.alpha G6(smc) average_r S/N    ase mean  sd median_r\n",
       "      0.86      0.86    0.87      0.54 5.9 0.0098  8.3 1.1     0.64\n",
       "\n",
       " lower alpha upper     95% confidence boundaries\n",
       "0.84 0.86 0.88 \n",
       "\n",
       " Reliability if an item is dropped:\n",
       "         raw_alpha std.alpha G6(smc) average_r  S/N alpha se  var.r med.r\n",
       "friendly      0.77      0.77    0.75      0.45  3.3    0.016 0.0526  0.46\n",
       "inviting      0.80      0.81    0.82      0.51  4.1    0.012 0.0736  0.47\n",
       "awesome       0.81      0.81    0.82      0.51  4.1    0.012 0.0764  0.47\n",
       "quirky        0.91      0.92    0.91      0.73 10.9    0.011 0.0069  0.75\n",
       "pleasant      0.81      0.80    0.82      0.51  4.1    0.011 0.0818  0.50\n",
       "\n",
       " Item statistics \n",
       "           n raw.r std.r r.cor r.drop mean   sd\n",
       "friendly 200  0.95  0.93  0.96   0.92  7.9 1.35\n",
       "inviting 200  0.88  0.85  0.82   0.78  7.8 1.54\n",
       "awesome  200  0.88  0.84  0.81   0.77  7.9 1.70\n",
       "quirky   200  0.31  0.51  0.30   0.29 10.0 0.14\n",
       "pleasant 200  0.87  0.85  0.82   0.76  7.8 1.61"
      ]
     },
     "metadata": {},
     "output_type": "display_data"
    }
   ],
   "source": [
    "# Next assess reliability of the measure\n",
    " # Reliability - the percentage of variance on the scores due to the thing you are measuring (i.e., due to the factor)\n",
    "  # If reliability is 100%, then our measure is perfectly reliable & every bump in data is real variation in sentiment.\n",
    "  # If reliability is less than 100%, let's say 80%, then most of variation is due to the thing you are measuring but remaining 20% is measurement error,\n",
    "  #   other random unrelated junk that you do not care about & is watering down your measure.\n",
    "  # Reliability b/w 0.70 & 0.90 is good, w/ 0.80 - 0.95 preferred.\n",
    "  # Trade-off in measurement, if you can get perfect score by asking same question several different ways, but it's redundant and uninformative.\n",
    "   # If asked differently, relability might suffer, but more information is added.\n",
    "\n",
    "# Use alpha() from psych package to assess relability of measure.\n",
    " # Best to preface the command with psych:: to specify it comes from psych package since ggplot2 also has same command.\n",
    "\n",
    "psych::alpha(data)"
   ]
  },
  {
   "cell_type": "code",
   "execution_count": 10,
   "metadata": {},
   "outputs": [
    {
     "data": {
      "image/png": "[encoded data removed]",
      "text/plain": [
       "Plot with title \"Histogram of data$sentiment\""
      ]
     },
     "metadata": {},
     "output_type": "display_data"
    }
   ],
   "source": [
    "# Above -Top row gives alpha = 0.86, meaning our measure is 86% reliable, or only 14% measurement error.\n",
    " # Average correlation among out items is 0.54. But if we dropped \"quirky\", it improves to 0.73 w/ increase in reliability to 0.91 also.\n",
    " # This factor analysis confirms our gut instinct that \"quirky\" should be dropped (& reported separately if desired).\n",
    "\n",
    "# Score the scale using rowSums(), which accepts a data.frame() of desired values.\n",
    "\n",
    "data$sentiment <- rowSums(data.frame(data$friendly, data$inviting, data$awesome, data$pleasant))\n",
    "hist(data$sentiment)"
   ]
  },
  {
   "cell_type": "code",
   "execution_count": null,
   "metadata": {},
   "outputs": [],
   "source": [
    "# We still have not assess whether the thing we are measuring is sentiment, but will be explored (validity) in next notebook."
   ]
  }
 ],
 "metadata": {
  "kernelspec": {
   "display_name": "R",
   "language": "R",
   "name": "ir"
  },
  "language_info": {
   "codemirror_mode": "r",
   "file_extension": ".r",
   "mimetype": "text/x-r-source",
   "name": "R",
   "pygments_lexer": "r",
   "version": "3.5.0"
  }
 },
 "nbformat": 4,
 "nbformat_minor": 2
}
